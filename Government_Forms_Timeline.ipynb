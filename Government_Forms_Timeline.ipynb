{
 "cells": [
  {
   "cell_type": "code",
   "execution_count": 253,
   "metadata": {
    "collapsed": true,
    "pycharm": {
     "is_executing": false,
     "name": "#%%\n"
    }
   },
   "outputs": [],
   "source": [
    "import os\n",
    "import pandas as pd\n",
    "import seaborn as sns\n",
    "import matplotlib.pyplot as plt\n",
    "import matplotlib.patches as mpatches\n",
    "import matplotlib.cm as mcm\n",
    "\n",
    "dir_path = os.path.dirname(os.path.realpath(\"Government_Forms_Timeline.ipynb\"))\n",
    "filepath = f\"{dir_path}/data/Latin_America_Government_Forms_1800_2019.csv\"\n",
    "data = pd.read_csv(filepath, sep=\"\\t\")\n",
    "\n",
    "data.index = data[\"Year\"]\n",
    "data = data.drop(\"Year\", axis=1)\n",
    "\n",
    "gov_forms = {\"M\": \"Military dictatorship\",\n",
    "             \"DL\": \"Democracy - left-leaning\",\n",
    "             \"DR\": \"Democracy - right-leaning\",\n",
    "             \"DO\": \"Democracy - other\",\n",
    "             \"C\": \"Centralist\",\n",
    "             \"R\": \"Republican\",\n",
    "             \"COL\": \"Colonial rule\",\n",
    "             \"O\": \"Other/multiple\"\n",
    "             }\n",
    "colors = {\"M\": \"black\",\n",
    "          \"DL\": \"red\",\n",
    "          \"DR\": \"blue\",\n",
    "          \"DO\": \"yellow\",\n",
    "          \"C\": \"green\",\n",
    "          \"R\": \"orange\",\n",
    "          \"COL\": \"brown\",\n",
    "          \"O\": \"grey\"\n",
    "          }\n",
    "countries_ready = [\"Argentina\", \"Bolivia\", \"Brazil\", \"Chile\", \"Colombia\"]\n",
    "\n",
    "print(\"Data available for:\", data.shape[1], \"countries, \", data.shape[0], \"years (\", data.index[0], \"-\", data.index[-1], \")\\n\")\n",
    "data.tail()"
   ]
  },
  {
   "cell_type": "code",
   "execution_count": 255,
   "outputs": [],
   "source": [
    "num_encoder = {\"M\": 1,\n",
    "              \"DL\": 2,\n",
    "              \"DR\": 3,\n",
    "              \"DO\": 4,\n",
    "              \"C\": 5,\n",
    "              \"R\": 6,\n",
    "              \"COL\": 7,\n",
    "              \"O\": 8\n",
    "              }\n",
    "encoded_data = data.copy()\n",
    "for col in countries_ready:\n",
    "    encoded_data[col] = encoded_data[col].apply(lambda x: num_encoder[x])\n",
    "\n",
    "# Figure setup\n",
    "fig, ax = plt.subplots()\n",
    "fig.set_size_inches(15, 4)\n",
    "ax.set_position([0.08, 0.35, 0.9, 0.5])     # so that saved figure includes legend\n",
    "plt.title(\"Forms of Government of Latin American nations, 1800-2019\", fontweight=\"bold\")\n",
    "cmap = mcm.get_cmap(\"Set2\")\n",
    "\n",
    "# Plot heatmap\n",
    "chart = sns.heatmap(encoded_data[countries_ready].T, cmap=cmap, cbar=False)\n",
    "chart.set_yticklabels(chart.get_yticklabels(), fontweight=\"bold\")\n",
    "chart.set_xlabel(\"Year\", visible=False)\n",
    "\n",
    "# Add legend\n",
    "patches = [mpatches.Patch(color=cmap((value - 1)/len(num_encoder)), label=gov_forms[key]) \n",
    "           for key, value in num_encoder.items()]\n",
    "ax.legend(handles=patches, loc=\"upper center\", bbox_to_anchor=(0.5, -0.3), \n",
    "          fancybox=True, shadow=True, ncol=8, fontsize=\"small\")\n",
    "\n",
    "plt.savefig(\"gov_forms_visualized.png\", dpi = 300)\n",
    "plt.show()"
   ],
   "metadata": {
    "collapsed": false,
    "pycharm": {
     "name": "#%%\n",
     "is_executing": false
    }
   }
  },
  {
   "cell_type": "code",
   "execution_count": null,
   "outputs": [],
   "source": [
    "# alternative, first approach using scatter plot\n",
    "\n",
    "reversed_countries_ready = countries_ready.copy()\n",
    "reversed_countries_ready.reverse()\n",
    "\n",
    "dots = []\n",
    "j = 0\n",
    "for country in reversed_countries_ready:   \n",
    "    # reverse(), so that countries appear in correct order in diagram\n",
    "    # later to be replaced by data.columns\n",
    "    j += 1\n",
    "    country_dots = [(i, j, data[country].at[i]) for i in range(1800, 2020)]\n",
    "    dots.extend(country_dots)\n",
    "\n",
    "dots = pd.DataFrame(dots)\n",
    "\n",
    "fig, ax = plt.subplots()\n",
    "fig.set_size_inches(15, 2)\n",
    "ax.set_position([0.08, 0.35, 0.9, 0.5])\n",
    "\n",
    "for gov_form in dots[2].unique():\n",
    "    selected = dots[dots[2] == gov_form]\n",
    "    ax.scatter(x = selected[0], y = selected[1], color = colors[gov_form], label = gov_forms[gov_form], s = 7)\n",
    "\n",
    "plt.grid(axis=\"x\", linestyle=\"--\")\n",
    "\n",
    "tick_labels = []\n",
    "for country in reversed_countries_ready:\n",
    "    tick_labels.append(\"\")\n",
    "    tick_labels.append(country)\n",
    "cur_axes = plt.gca()\n",
    "cur_axes.axes.get_yaxis().set_ticklabels(tick_labels, fontweight=\"bold\")\n",
    "\n",
    "ax.legend(loc = \"upper center\", bbox_to_anchor = (0.5, -0.3), \n",
    "          fancybox=True, shadow=True, ncol = 8, fontsize=\"small\")\n",
    "\n",
    "plt.title(\"Forms of Government of Latin American nations, 1800-2019\", fontweight=\"bold\")\n",
    "# plt.savefig(\"Gov_forms.png\", dpi = 300)\n",
    "plt.show()"
   ],
   "metadata": {
    "collapsed": false,
    "pycharm": {
     "name": "#%%\n"
    }
   }
  }
 ],
 "metadata": {
  "kernelspec": {
   "display_name": "Python 3",
   "language": "python",
   "name": "python3"
  },
  "language_info": {
   "codemirror_mode": {
    "name": "ipython",
    "version": 2
   },
   "file_extension": ".py",
   "mimetype": "text/x-python",
   "name": "python",
   "nbconvert_exporter": "python",
   "pygments_lexer": "ipython2",
   "version": "2.7.6"
  },
  "pycharm": {
   "stem_cell": {
    "cell_type": "raw",
    "source": [],
    "metadata": {
     "collapsed": false
    }
   }
  }
 },
 "nbformat": 4,
 "nbformat_minor": 0
}